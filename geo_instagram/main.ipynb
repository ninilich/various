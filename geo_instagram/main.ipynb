{
 "cells": [
  {
   "cell_type": "code",
   "execution_count": 28,
   "id": "5ad0aee7-803e-4fb5-a52f-5742ddb59635",
   "metadata": {},
   "outputs": [],
   "source": [
    "import folium\n",
    "from numpy import mean\n",
    "from folium.plugins import MarkerCluster\n",
    "from instagrapi import Client\n",
    "from random import randint, seed\n",
    "from time import sleep\n",
    "from datetime import datetime"
   ]
  },
  {
   "cell_type": "code",
   "execution_count": 2,
   "id": "a54f2ad4-1cf7-4bfb-a5a2-9bb9fddf9c67",
   "metadata": {},
   "outputs": [
    {
     "data": {
      "text/plain": [
       "True"
      ]
     },
     "execution_count": 2,
     "metadata": {},
     "output_type": "execute_result"
    }
   ],
   "source": [
    "# Create client and logining\n",
    "SESSION_ID = \"....\" # session_id for loging\n",
    "cl = Client()\n",
    "cl.login_by_sessionid(SESSION_ID)"
   ]
  },
  {
   "cell_type": "code",
   "execution_count": 3,
   "id": "a2476878-b73a-4529-869f-1d2daa02abae",
   "metadata": {},
   "outputs": [],
   "source": [
    "USER_NAME= \"....\"         # User name to analyse\n",
    "media_cnt = 100           # quantity of media to analyse \n",
    "user_id = cl.user_id_from_username(USER_NAME)\n",
    "media_list = cl.user_medias(user_id, media_cnt)"
   ]
  },
  {
   "cell_type": "code",
   "execution_count": 4,
   "id": "47845668-4829-4436-aec2-8ecd3c9725a9",
   "metadata": {},
   "outputs": [],
   "source": [
    "def get_data_from_media(media) -> dict:\n",
    "    \"\"\"\n",
    "    Function to extract necessary data from media\n",
    "    \"\"\"\n",
    "    media_info = cl.media_info(media.pk).dict()\n",
    "    if media_info['location']:\n",
    "        out = {\"location_lng\": media_info['location']['lng'],\n",
    "               \"location_lat\": media_info['location']['lat'],\n",
    "               \"location_name\": media_info['location']['name'],\n",
    "               \"like_cnt\": media_info['like_count'],\n",
    "               \"desc\": media_info['caption_text'],\n",
    "               \"taken_at\": media_info['taken_at'],\n",
    "               \"media_type\": media_info['media_type']\n",
    "              }\n",
    "    else:\n",
    "        out = {}\n",
    "    return out"
   ]
  },
  {
   "cell_type": "code",
   "execution_count": 5,
   "id": "71f43f0b-b41d-4692-9788-c4c080819657",
   "metadata": {},
   "outputs": [],
   "source": [
    "# Collect all data together\n",
    "data = list()\n",
    "seed # for randoms\n",
    "for media in media_list:\n",
    "    data.append(get_data_from_media(media))\n",
    "    sleep(randint(10, 200)/100) # to avoid blocking an account\n",
    "\n",
    "# Filter data without GEO-tags\n",
    "places = list(filter(lambda item: item.get('location_lat') != None and item.get('location_lng') != None,\n",
    "                      data\n",
    "                      )\n",
    "              )"
   ]
  },
  {
   "cell_type": "code",
   "execution_count": 6,
   "id": "f5ff7168-0f51-4673-99d1-d6352d632cad",
   "metadata": {},
   "outputs": [],
   "source": [
    "max_likes = max([item['like_cnt'] for item in places])\n",
    "min_likes = min([item['like_cnt'] for item in places])"
   ]
  },
  {
   "cell_type": "code",
   "execution_count": 8,
   "id": "cb40c5d1-2c07-4a05-9cf3-297fcfe1682a",
   "metadata": {},
   "outputs": [],
   "source": [
    "def get_color(n: int) -> str:\n",
    "    \"\"\"\n",
    "    Function to get color from likes's quantity\n",
    "    \"\"\"\n",
    "    borders =[min_likes + i/100*(max_likes-min_likes) for i in range (20, 100, 20)]\n",
    "    if n > borders[2]:\n",
    "        return 'darkred' \n",
    "    elif n > borders[2]:\n",
    "        return 'red'    \n",
    "    elif n > borders[0]:\n",
    "        return 'lightred'\n",
    "    else:\n",
    "        return 'orange'"
   ]
  },
  {
   "cell_type": "code",
   "execution_count": 31,
   "id": "d02809dc-8036-43c5-b751-78b643a0cc35",
   "metadata": {},
   "outputs": [],
   "source": [
    "lat0 = mean([place['location_lat'] for place in places])\n",
    "lng0 = mean([place['location_lng'] for place in places])"
   ]
  },
  {
   "cell_type": "code",
   "execution_count": 34,
   "id": "aadd285b-22fd-4c35-9103-80eda95d2db6",
   "metadata": {},
   "outputs": [],
   "source": [
    "# build map\n",
    "map = folium.Map(location=[lat0, lng0], zoom_start = 3, control_scale=True)\n",
    "marker_cluster = MarkerCluster().add_to(map)\n",
    "\n",
    "for place in places:\n",
    "    folium.Marker(location=[place['location_lat'], place['location_lng']], \n",
    "                  popup=place['taken_at'].strftime('%d-%m-%Y'),# + '\\n' + place['desc'], \n",
    "                  icon=folium.Icon(color = get_color(place['like_cnt'])))\\\n",
    "    .add_to(marker_cluster)\n",
    "\n",
    "map.save(\"map.html\")"
   ]
  }
 ],
 "metadata": {
  "kernelspec": {
   "display_name": "Python 3",
   "language": "python",
   "name": "python3"
  },
  "language_info": {
   "codemirror_mode": {
    "name": "ipython",
    "version": 3
   },
   "file_extension": ".py",
   "mimetype": "text/x-python",
   "name": "python",
   "nbconvert_exporter": "python",
   "pygments_lexer": "ipython3",
   "version": "3.9.1"
  }
 },
 "nbformat": 4,
 "nbformat_minor": 5
}
